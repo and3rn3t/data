{
 "cells": [
  {
   "cell_type": "markdown",
   "metadata": {},
   "source": [
    "# 🎮 Welcome to Data Science Sandbox!\n",
    "\n",
    "## Level 1: Data Explorer - Getting Started\n",
    "\n",
    "Welcome to your data science journey! This notebook will introduce you to the fundamentals of working with data using Python. \n",
    "\n",
    "### What You'll Learn:\n",
    "- Loading and exploring datasets\n",
    "- Basic data manipulation with pandas\n",
    "- Understanding data types and structures\n",
    "- Creating your first visualizations\n",
    "\n",
    "### Game Elements:\n",
    "- 🎯 Complete exercises to earn XP\n",
    "- 🏆 Unlock achievement badges\n",
    "- 📈 Track your progress through levels\n",
    "\n",
    "Let's get started!"
   ]
  },
  {
   "cell_type": "markdown",
   "metadata": {},
   "source": [
    "## 📚 Section 1: Setting Up Your Environment\n",
    "\n",
    "First, let's import the essential libraries you'll use throughout your data science journey."
   ]
  },
  {
   "cell_type": "code",
   "execution_count": null,
   "metadata": {},
   "outputs": [],
   "source": [
    "# Essential data science libraries\n",
    "import pandas as pd\n",
    "import numpy as np\n",
    "import matplotlib.pyplot as plt\n",
    "import seaborn as sns\n",
    "\n",
    "# Configure display settings\n",
    "pd.set_option('display.max_columns', None)\n",
    "pd.set_option('display.width', None)\n",
    "pd.set_option('display.max_colwidth', 50)\n",
    "\n",
    "# Set up plotting\n",
    "plt.rcParams['figure.figsize'] = (10, 6)\n",
    "sns.set_style(\"whitegrid\")\n",
    "\n",
    "print(\"✅ Environment setup complete!\")\n",
    "print(f\"📊 Pandas version: {pd.__version__}\")\n",
    "print(f\"🔢 NumPy version: {np.__version__}\")"
   ]
  },
  {
   "cell_type": "markdown",
   "metadata": {},
   "source": [
    "## 🎯 Challenge 1: Your First Dataset\n",
    "\n",
    "Let's start with a simple dataset to get familiar with pandas basics."
   ]
  },
  {
   "cell_type": "code",
   "execution_count": null,
   "metadata": {},
   "outputs": [],
   "source": [
    "# Load your first dataset\n",
    "df_simple = pd.read_csv('../data/datasets/simple_data.csv')\n",
    "\n",
    "# Display the data\n",
    "print(\"🎉 Your first dataset:\")\n",
    "print(df_simple)"
   ]
  },
  {
   "cell_type": "code",
   "execution_count": null,
   "metadata": {},
   "outputs": [],
   "source": [
    "# Explore the dataset structure\n",
    "print(\"📊 Dataset Info:\")\n",
    "print(f\"Shape: {df_simple.shape}\")\n",
    "print(f\"Columns: {list(df_simple.columns)}\")\n",
    "print(f\"\\nData Types:\")\n",
    "print(df_simple.dtypes)"
   ]
  },
  {
   "cell_type": "markdown",
   "metadata": {},
   "source": [
    "### 🎯 Exercise 1.1: Basic Operations\n",
    "\n",
    "Try these operations on your dataset:"
   ]
  },
  {
   "cell_type": "code",
   "execution_count": null,
   "metadata": {},
   "outputs": [],
   "source": [
    "# TODO: Find the average age\n",
    "avg_age = df_simple['age'].mean()\n",
    "print(f\"Average age: {avg_age}\")\n",
    "\n",
    "# TODO: Find the highest score\n",
    "max_score = df_simple['score'].max()\n",
    "print(f\"Highest score: {max_score}\")\n",
    "\n",
    "# TODO: Count unique cities\n",
    "unique_cities = df_simple['city'].nunique()\n",
    "print(f\"Number of unique cities: {unique_cities}\")\n",
    "\n",
    "print(\"\\n🎉 Great job! You've completed your first data analysis!\")"
   ]
  },
  {
   "cell_type": "markdown",
   "metadata": {},
   "source": [
    "## 🎯 Challenge 2: Working with Real Data\n",
    "\n",
    "Now let's work with a more realistic dataset - sales data!"
   ]
  },
  {
   "cell_type": "code",
   "execution_count": null,
   "metadata": {},
   "outputs": [],
   "source": [
    "# Load the sales dataset\n",
    "df_sales = pd.read_csv('../data/datasets/sample_sales.csv')\n",
    "\n",
    "# Quick overview\n",
    "print(\"📈 Sales Dataset Overview:\")\n",
    "print(f\"Records: {len(df_sales):,}\")\n",
    "print(f\"Columns: {len(df_sales.columns)}\")\n",
    "print(\"\\nFirst 5 rows:\")\n",
    "df_sales.head()"
   ]
  },
  {
   "cell_type": "code",
   "execution_count": null,
   "metadata": {},
   "outputs": [],
   "source": [
    "# Explore the data structure\n",
    "print(\"📊 Dataset Information:\")\n",
    "df_sales.info()\n",
    "\n",
    "print(\"\\n📈 Statistical Summary:\")\n",
    "df_sales.describe()"
   ]
  },
  {
   "cell_type": "markdown",
   "metadata": {},
   "source": [
    "### 🎯 Exercise 2.1: Data Quality Check\n",
    "\n",
    "Always check your data quality first!"
   ]
  },
  {
   "cell_type": "code",
   "execution_count": null,
   "metadata": {},
   "outputs": [],
   "source": [
    "# Check for missing values\n",
    "print(\"🔍 Missing Values Check:\")\n",
    "missing_data = df_sales.isnull().sum()\n",
    "print(missing_data[missing_data > 0])\n",
    "\n",
    "if missing_data.sum() > 0:\n",
    "    print(f\"\\n⚠️ Found {missing_data.sum()} missing values across the dataset\")\n",
    "else:\n",
    "    print(\"\\n✅ No missing values found!\")"
   ]
  },
  {
   "cell_type": "markdown",
   "metadata": {},
   "source": [
    "## 📊 Challenge 3: Your First Visualizations\n",
    "\n",
    "Data visualization is crucial for understanding patterns in your data."
   ]
  },
  {
   "cell_type": "code",
   "execution_count": null,
   "metadata": {},
   "outputs": [],
   "source": [
    "# Create a histogram of sales amounts\n",
    "plt.figure(figsize=(12, 6))\n",
    "\n",
    "plt.subplot(1, 2, 1)\n",
    "plt.hist(df_sales['sales'], bins=30, alpha=0.7, color='skyblue', edgecolor='black')\n",
    "plt.title('Distribution of Sales Amounts')\n",
    "plt.xlabel('Sales Amount ($)')\n",
    "plt.ylabel('Frequency')\n",
    "plt.grid(True, alpha=0.3)\n",
    "\n",
    "# Create a bar chart of sales by region\n",
    "plt.subplot(1, 2, 2)\n",
    "sales_by_region = df_sales.groupby('region')['sales'].sum().sort_values(ascending=False)\n",
    "bars = plt.bar(sales_by_region.index, sales_by_region.values, color='lightgreen', edgecolor='black')\n",
    "plt.title('Total Sales by Region')\n",
    "plt.xlabel('Region')\n",
    "plt.ylabel('Total Sales ($)')\n",
    "plt.xticks(rotation=45)\n",
    "\n",
    "# Add value labels on bars\n",
    "for bar in bars:\n",
    "    height = bar.get_height()\n",
    "    plt.text(bar.get_x() + bar.get_width()/2., height + height*0.01,\n",
    "             f'${height:,.0f}', ha='center', va='bottom')\n",
    "\n",
    "plt.tight_layout()\n",
    "plt.show()\n",
    "\n",
    "print(\"🎉 Excellent! You've created your first data visualizations!\")"
   ]
  },
  {
   "cell_type": "markdown",
   "metadata": {},
   "source": [
    "### 🎯 Exercise 3.1: Create Your Own Visualization\n",
    "\n",
    "Now it's your turn to create a visualization!"
   ]
  },
  {
   "cell_type": "code",
   "execution_count": null,
   "metadata": {},
   "outputs": [],
   "source": [
    "# TODO: Create a visualization of your choice\n",
    "# Ideas: \n",
    "# - Sales by category\n",
    "# - Quantity vs Sales scatter plot  \n",
    "# - Customer satisfaction distribution\n",
    "\n",
    "# Your code here:\n",
    "plt.figure(figsize=(10, 6))\n",
    "\n",
    "# Example: Sales by category\n",
    "sales_by_category = df_sales.groupby('category')['sales'].sum().sort_values(ascending=True)\n",
    "plt.barh(sales_by_category.index, sales_by_category.values, color='coral')\n",
    "plt.title('Total Sales by Product Category')\n",
    "plt.xlabel('Total Sales ($)')\n",
    "plt.ylabel('Category')\n",
    "\n",
    "# Add value labels\n",
    "for i, v in enumerate(sales_by_category.values):\n",
    "    plt.text(v + v*0.01, i, f'${v:,.0f}', va='center')\n",
    "\n",
    "plt.tight_layout()\n",
    "plt.show()\n",
    "\n",
    "print(\"🏆 Outstanding work! You're becoming a data visualization expert!\")"
   ]
  },
  {
   "cell_type": "markdown",
   "metadata": {},
   "source": [
    "## 🎯 Final Challenge: Data Insights\n",
    "\n",
    "Let's answer some business questions using our data!"
   ]
  },
  {
   "cell_type": "code",
   "execution_count": null,
   "metadata": {},
   "outputs": [],
   "source": [
    "print(\"🔍 Business Insights from Sales Data:\")\n",
    "print(\"=\" * 50)\n",
    "\n",
    "# 1. Which region generates the most revenue?\n",
    "top_region = df_sales.groupby('region')['sales'].sum().idxmax()\n",
    "top_revenue = df_sales.groupby('region')['sales'].sum().max()\n",
    "print(f\"💰 Top revenue region: {top_region} (${top_revenue:,.2f})\")\n",
    "\n",
    "# 2. What's the average order size?\n",
    "avg_order = df_sales['sales'].mean()\n",
    "print(f\"📊 Average order value: ${avg_order:.2f}\")\n",
    "\n",
    "# 3. Which category has the highest average satisfaction?\n",
    "satisfaction_by_category = df_sales.groupby('category')['customer_satisfaction'].mean().sort_values(ascending=False)\n",
    "print(f\"😊 Highest satisfaction category: {satisfaction_by_category.index[0]} ({satisfaction_by_category.iloc[0]:.2f}/5)\")\n",
    "\n",
    "# 4. How many unique customers do we have? (approximated by sales reps)\n",
    "unique_reps = df_sales['sales_rep'].nunique()\n",
    "print(f\"👥 Number of sales representatives: {unique_reps}\")\n",
    "\n",
    "print(\"\\n🎉 Congratulations! You've completed Level 1: Data Explorer!\")\n",
    "print(\"🚀 Ready to move on to Level 2: Analytics Apprentice?\")"
   ]
  },
  {
   "cell_type": "markdown",
   "metadata": {},
   "source": [
    "## 🏆 Level 1 Complete!\n",
    "\n",
    "### What You've Accomplished:\n",
    "- ✅ Loaded and explored datasets\n",
    "- ✅ Performed basic data analysis operations\n",
    "- ✅ Created your first data visualizations\n",
    "- ✅ Generated business insights from data\n",
    "\n",
    "### Skills Unlocked:\n",
    "- 🐼 **Pandas Basics**: DataFrames, series, basic operations\n",
    "- 📊 **Data Exploration**: head(), info(), describe(), shape\n",
    "- 📈 **Basic Visualization**: histograms, bar charts, customization\n",
    "- 🔍 **Data Quality**: checking for missing values\n",
    "\n",
    "### Next Level Preview - Level 2: Analytics Apprentice\n",
    "- Data cleaning and preprocessing\n",
    "- Advanced data manipulation\n",
    "- Statistical analysis\n",
    "- More complex visualizations\n",
    "\n",
    "### 🎯 Achievement Unlocked: \"First Steps\" Badge!\n",
    "\n",
    "Keep going - your data science journey is just beginning! 🚀"
   ]
  }
 ],
 "metadata": {
  "kernelspec": {
   "display_name": "Python 3",
   "language": "python",
   "name": "python3"
  },
  "language_info": {
   "codemirror_mode": {
    "name": "ipython",
    "version": 3
   },
   "file_extension": ".py",
   "mimetype": "text/x-python",
   "name": "python",
   "nbconvert_exporter": "python",
   "pygments_lexer": "ipython3",
   "version": "3.8.0"
  }
 },
 "nbformat": 4,
 "nbformat_minor": 4
}